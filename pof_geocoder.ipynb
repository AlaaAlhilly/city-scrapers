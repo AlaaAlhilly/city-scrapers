{
 "cells": [
  {
   "cell_type": "code",
   "execution_count": null,
   "metadata": {},
   "outputs": [],
   "source": [
    "import geocoder"
   ]
  },
  {
   "cell_type": "code",
   "execution_count": null,
   "metadata": {},
   "outputs": [],
   "source": [
    "key = 'pk.eyJ1IjoiZWFzaGVybWEiLCJhIjoiY2oxcW51Nzk2MDBkbTJxcGUxdm85bW5xayJ9.7mL0wQ7cjifWwt5DrXMuJA'\n",
    "m = geocoder.mapbox('121 N LaSalle Dr, Chicago, IL 60602', key=key)"
   ]
  },
  {
   "cell_type": "code",
   "execution_count": null,
   "metadata": {},
   "outputs": [],
   "source": [
    "key = 'pk.eyJ1IjoiZWFzaGVybWEiLCJhIjoiY2oxcW51Nzk2MDBkbTJxcGUxdm85bW5xayJ9.7mL0wQ7cjifWwt5DrXMuJA'\n",
    "g = geocoder.google('121 N LaSalle Dr, Chicago, IL 60602')"
   ]
  },
  {
   "cell_type": "code",
   "execution_count": null,
   "metadata": {},
   "outputs": [],
   "source": [
    "g = geocoder.google('121 N LaSalle Dr, Chicago, IL 60602')\n",
    "e = geocoder.arcgis('121 N LaSalle Dr, Chicago, IL 60602')\n"
   ]
  },
  {
   "cell_type": "code",
   "execution_count": 21,
   "metadata": {},
   "outputs": [],
   "source": [
    "import pandas as pd\n",
    "\n",
    "df = pd.read_csv('./documenters_aggregator/local_outputs/chi_police_20180312_2010.csv')"
   ]
  },
  {
   "cell_type": "code",
   "execution_count": 53,
   "metadata": {},
   "outputs": [],
   "source": [
    "test_addy = df['location_address'][0]"
   ]
  },
  {
   "cell_type": "code",
   "execution_count": null,
   "metadata": {},
   "outputs": [],
   "source": []
  },
  {
   "cell_type": "code",
   "execution_count": null,
   "metadata": {},
   "outputs": [],
   "source": []
  },
  {
   "cell_type": "code",
   "execution_count": 114,
   "metadata": {},
   "outputs": [],
   "source": [
    "import geocoder\n",
    "\n",
    "\"\"\"\n",
    "This pipeline decorates items with latitude and longitude by geocoding their\n",
    "addresses.\n",
    "\"\"\"\n",
    "class MapboxPipeline(object):\n",
    "    \"\"\"\n",
    "    Stub pipeline to geocode using Mapbox.\n",
    "    \"\"\"\n",
    "    def __init__(self):\n",
    "        # the geocoder library. this way we can use other libraries if needed or write/extend our own\n",
    "        self.engine = 'geocoder' \n",
    "        # api key, mapbox in this case. best practice would be to hide this\n",
    "        self.key = 'pk.eyJ1IjoiZWFzaGVybWEiLCJhIjoiY2oxcW51Nzk2MDBkbTJxcGUxdm85bW5xayJ9.7mL0wQ7cjifWwt5DrXMuJA' #API \n",
    "\n",
    "    \"\"\"\n",
    "    Process an item.\n",
    "    \"\"\"\n",
    "    def process_item(self, item, spider):\n",
    "        if item['location']['coordinates']['latitude'] is None:\n",
    "            response = self.get_geocoder_query('1811 N francisco ave, Chicago, Illinois, 60647')\n",
    "            item['location']['coordinates']['latitude'] = response.lat\n",
    "            item['location']['coordinates']['longitude'] = response.lng\n",
    "            item['location']['url'] = response.url\n",
    "        return item\n",
    "\n",
    "\n",
    "    def get_geocoder_query(self, address=None, bbox=None):\n",
    "\n",
    "        if self.engine == 'geocoder':\n",
    "            provider = 'mapbox'\n",
    "            params = {\n",
    "            'engine': self.engine,\n",
    "            'provider': provider,\n",
    "            'key': self.key\n",
    "\n",
    "\n",
    "            }\n",
    "            query_params = {\n",
    "\n",
    "                'address': address,\n",
    "                'bbox': bbox # bounds to search in, useful if we dont have city/zip in address          \n",
    "            }\n",
    "            \n",
    "#             query = \"{engine}.{provider}('{address}', key='{key}')\".format(**params)\n",
    "            \n",
    "            result = getattr(geocoder, provider)(query_params['address'], key = params['key'], **query_params)\n",
    "            return result, str(query_params)\n",
    "        return query\n",
    "\n"
   ]
  },
  {
   "cell_type": "code",
   "execution_count": 115,
   "metadata": {},
   "outputs": [],
   "source": [
    "geo = MapboxPipeline()\n"
   ]
  },
  {
   "cell_type": "code",
   "execution_count": 139,
   "metadata": {},
   "outputs": [],
   "source": [
    "test_raw = geo.get_geocoder_query(df['location_address'][0])\n",
    "test_bbox = geo.get_geocoder_query(df['location_address'][0], bbox=[-87.940102,41.643921,-87.523987,42.023022])\n",
    "test_city_state = geo.get_geocoder_query(df['location_address'][0] + ',Chicago,Illinois')"
   ]
  },
  {
   "cell_type": "code",
   "execution_count": 97,
   "metadata": {},
   "outputs": [
    {
     "data": {
      "text/plain": [
       "(<[OK] Mapbox - Geocode #5 results>,\n",
       " \"geocoder.mapbox('St. Ferdinand's 3115 N Mason', key='pk.eyJ1IjoiZWFzaGVybWEiLCJhIjoiY2oxcW51Nzk2MDBkbTJxcGUxdm85bW5xayJ9.7mL0wQ7cjifWwt5DrXMuJA')\")"
      ]
     },
     "execution_count": 97,
     "metadata": {},
     "output_type": "execute_result"
    }
   ],
   "source": [
    "geo.get_geocoder_query(df['location_address'][0], bbox=[-87.940102,41.643921,-87.523987,42.023022])"
   ]
  },
  {
   "cell_type": "code",
   "execution_count": 51,
   "metadata": {},
   "outputs": [
    {
     "data": {
      "text/plain": [
       "'{\"type\": \"FeatureCollection\", \"features\": [{\"type\": \"Feature\", \"properties\": {\"accuracy\": \"interpolated\", \"address\": \"3115 North Mason Avenue, Chicago, Illinois 60634, United States\", \"city\": \"Chicago\", \"country\": \"United States\", \"housenumber\": \"3115\", \"lat\": 41.938369, \"lng\": -87.774988, \"ok\": true, \"postal\": \"60634\", \"quality\": 0.3333333333333333, \"raw\": {\"id\": \"address.1218523901163610\", \"type\": \"Feature\", \"place_type\": [\"address\"], \"relevance\": 0.3333333333333333, \"properties\": {}, \"text\": \"North Mason Avenue\", \"place_name\": \"3115 North Mason Avenue, Chicago, Illinois 60634, United States\", \"center\": [-87.774988, 41.938369], \"geometry\": {\"type\": \"Point\", \"coordinates\": [-87.774988, 41.938369], \"interpolated\": true}, \"address\": \"3115\", \"context\": [{\"id\": \"neighborhood.298742\", \"text\": \"Belmont Central\"}, {\"id\": \"postcode.17261599636613900\", \"text\": \"60634\"}, {\"id\": \"place.7071500072701850\", \"wikidata\": \"Q1297\", \"text\": \"Chicago\"}, {\"id\": \"region.224711\", \"short_code\": \"US-IL\", \"wikidata\": \"Q1204\", \"text\": \"Illinois\"}, {\"id\": \"country.3145\", \"short_code\": \"us\", \"wikidata\": \"Q30\", \"text\": \"United States\"}], \"neighborhood\": \"Belmont Central\", \"postcode\": \"60634\", \"place\": \"Chicago\", \"region\": \"Illinois\", \"country\": \"United States\"}, \"state\": \"Illinois\", \"status\": \"OK\"}, \"geometry\": {\"type\": \"Point\", \"coordinates\": [-87.774988, 41.938369]}}, {\"type\": \"Feature\", \"properties\": {\"address\": \"Mason, Illinois, United States\", \"bbox\": [-88.8062320070962, 38.8772839917794, -88.4694879991589, 39.0180490099981], \"confidence\": 1, \"country\": \"United States\", \"lat\": 38.9531, \"lng\": -88.6237, \"ok\": true, \"quality\": 0.25, \"raw\": {\"id\": \"place.16255217775242450\", \"type\": \"Feature\", \"place_type\": [\"place\"], \"relevance\": 0.25, \"properties\": {\"wikidata\": \"Q575758\"}, \"text\": \"Mason\", \"place_name\": \"Mason, Illinois, United States\", \"bbox\": [-88.8062320070962, 38.8772839917794, -88.4694879991589, 39.0180490099981], \"center\": [-88.6237, 38.9531], \"geometry\": {\"type\": \"Point\", \"coordinates\": [-88.6237, 38.9531]}, \"context\": [{\"id\": \"region.224711\", \"short_code\": \"US-IL\", \"wikidata\": \"Q1204\", \"text\": \"Illinois\"}, {\"id\": \"country.3145\", \"short_code\": \"us\", \"wikidata\": \"Q30\", \"text\": \"United States\"}], \"region\": \"Illinois\", \"country\": \"United States\"}, \"state\": \"Illinois\", \"status\": \"OK\"}, \"bbox\": [-88.8062320070962, 38.8772839917794, -88.4694879991589, 39.0180490099981], \"geometry\": {\"type\": \"Point\", \"coordinates\": [-88.6237, 38.9531]}}, {\"type\": \"Feature\", \"properties\": {\"address\": \"Mason City, Illinois, United States\", \"bbox\": [-89.8315960099994, 40.1266519900032, -89.6011949900029, 40.3042210094341], \"confidence\": 1, \"country\": \"United States\", \"lat\": 40.2023, \"lng\": -89.6982, \"ok\": true, \"quality\": 0.25, \"raw\": {\"id\": \"place.10002394373600600\", \"type\": \"Feature\", \"place_type\": [\"place\"], \"relevance\": 0.25, \"properties\": {\"wikidata\": \"Q575391\"}, \"text\": \"Mason City\", \"place_name\": \"Mason City, Illinois, United States\", \"bbox\": [-89.8315960099994, 40.1266519900032, -89.6011949900029, 40.3042210094341], \"center\": [-89.6982, 40.2023], \"geometry\": {\"type\": \"Point\", \"coordinates\": [-89.6982, 40.2023]}, \"context\": [{\"id\": \"region.224711\", \"short_code\": \"US-IL\", \"wikidata\": \"Q1204\", \"text\": \"Illinois\"}, {\"id\": \"country.3145\", \"short_code\": \"us\", \"wikidata\": \"Q30\", \"text\": \"United States\"}], \"region\": \"Illinois\", \"country\": \"United States\"}, \"state\": \"Illinois\", \"status\": \"OK\"}, \"bbox\": [-89.8315960099994, 40.1266519900032, -89.6011949900029, 40.3042210094341], \"geometry\": {\"type\": \"Point\", \"coordinates\": [-89.6982, 40.2023]}}, {\"type\": \"Feature\", \"properties\": {\"address\": \"Masonville Census Designated Place, Kentucky, United States\", \"country\": \"United States\", \"lat\": 37.6717907, \"lng\": -87.0510928, \"ok\": true, \"quality\": 0.25, \"raw\": {\"id\": \"place.2185635813326941\", \"type\": \"Feature\", \"place_type\": [\"place\"], \"relevance\": 0.25, \"properties\": {}, \"text\": \"Masonville Census Designated Place\", \"place_name\": \"Masonville Census Designated Place, Kentucky, United States\", \"center\": [-87.0510928, 37.6717907], \"geometry\": {\"type\": \"Point\", \"coordinates\": [-87.0510928, 37.6717907]}, \"context\": [{\"id\": \"region.3224\", \"short_code\": \"US-KY\", \"wikidata\": \"Q1603\", \"text\": \"Kentucky\"}, {\"id\": \"country.3145\", \"short_code\": \"us\", \"wikidata\": \"Q30\", \"text\": \"United States\"}], \"region\": \"Kentucky\", \"country\": \"United States\"}, \"state\": \"Kentucky\", \"status\": \"OK\"}, \"geometry\": {\"type\": \"Point\", \"coordinates\": [-87.0510928, 37.6717907]}}, {\"type\": \"Feature\", \"properties\": {\"address\": \"Masonville, Kentucky, United States\", \"country\": \"United States\", \"lat\": 37.675049, \"lng\": -87.0347173, \"ok\": true, \"quality\": 0.25, \"raw\": {\"id\": \"place.9434750098534172\", \"type\": \"Feature\", \"place_type\": [\"place\"], \"relevance\": 0.25, \"properties\": {}, \"text\": \"Masonville\", \"place_name\": \"Masonville, Kentucky, United States\", \"center\": [-87.0347173, 37.675049], \"geometry\": {\"type\": \"Point\", \"coordinates\": [-87.0347173, 37.675049]}, \"context\": [{\"id\": \"region.3224\", \"short_code\": \"US-KY\", \"wikidata\": \"Q1603\", \"text\": \"Kentucky\"}, {\"id\": \"country.3145\", \"short_code\": \"us\", \"wikidata\": \"Q30\", \"text\": \"United States\"}], \"region\": \"Kentucky\", \"country\": \"United States\"}, \"state\": \"Kentucky\", \"status\": \"OK\"}, \"geometry\": {\"type\": \"Point\", \"coordinates\": [-87.0347173, 37.675049]}}]}'"
      ]
     },
     "execution_count": 51,
     "metadata": {},
     "output_type": "execute_result"
    }
   ],
   "source": [
    "import json\n",
    "json.dumps(test[0].geojson)"
   ]
  },
  {
   "cell_type": "code",
   "execution_count": 187,
   "metadata": {},
   "outputs": [
    {
     "data": {
      "text/html": [
       "<div style=\"width:100%;\"><div style=\"position:relative;width:100%;height:0;padding-bottom:60%;\"><iframe src=\"data:text/html;charset=utf-8;base64,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\" style=\"position:absolute;width:100%;height:100%;left:0;top:0;border:none !important;\" allowfullscreen webkitallowfullscreen mozallowfullscreen></iframe></div></div>"
      ],
      "text/plain": [
       "<folium.folium.Map at 0x7f45f4027ef0>"
      ]
     },
     "execution_count": 187,
     "metadata": {},
     "output_type": "execute_result"
    }
   ],
   "source": [
    "import folium \n",
    "\n",
    "bbox = {\n",
    "  \"type\": \"FeatureCollection\",\n",
    "  \"features\": [\n",
    "    {\n",
    "      \"type\": \"Feature\",\n",
    "      \"properties\": {},\n",
    "      \"geometry\": {\n",
    "        \"type\": \"Polygon\",\n",
    "        \"coordinates\": \n",
    "[[[-87.940102,41.643921],[-87.523987,41.643921],[-87.523987,42.023022],[-87.940102,42.023022],[-87.940102,41.643921]]]\n",
    "      }\n",
    "    }\n",
    "  ]\n",
    "}\n",
    "\n",
    "\n",
    "\n",
    "m = folium.Map(\n",
    "    location=[42.023022, -87.523987],\n",
    "    tiles='Mapbox Bright',\n",
    "    zoom_start=1\n",
    ")\n",
    "\n",
    "folium.GeoJson(\n",
    "    test_raw[0].geojson,\n",
    "    name='test_raw'\n",
    ").add_to(m)\n",
    "\n",
    "folium.GeoJson(\n",
    "    test_bbox[0].geojson,\n",
    "    name='test_bbox'\n",
    ").add_to(m)\n",
    "\n",
    "folium.GeoJson(\n",
    "    test_city_state[0].geojson,\n",
    "    name='test_city_state'\n",
    ").add_to(m)\n",
    "\n",
    "folium.GeoJson(\n",
    "    bbox,\n",
    "    name='bbox'\n",
    ").add_to(m)\n",
    "\n",
    "folium.LayerControl().add_to(m)\n",
    "\n",
    "m"
   ]
  },
  {
   "cell_type": "code",
   "execution_count": null,
   "metadata": {},
   "outputs": [],
   "source": []
  }
 ],
 "metadata": {
  "kernelspec": {
   "display_name": "Python 3",
   "language": "python",
   "name": "python3"
  },
  "language_info": {
   "codemirror_mode": {
    "name": "ipython",
    "version": 3
   },
   "file_extension": ".py",
   "mimetype": "text/x-python",
   "name": "python",
   "nbconvert_exporter": "python",
   "pygments_lexer": "ipython3",
   "version": "3.6.4"
  }
 },
 "nbformat": 4,
 "nbformat_minor": 2
}
